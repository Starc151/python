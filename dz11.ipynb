{
 "cells": [
  {
   "cell_type": "code",
   "execution_count": 1,
   "metadata": {},
   "outputs": [
    {
     "data": {
      "text/latex": [
       "$\\displaystyle \\sin^{2}{\\left(x \\right)} - \\cos^{2}{\\left(x \\right)}$"
      ],
      "text/plain": [
       "sin(x)**2 - cos(x)**2"
      ]
     },
     "execution_count": 1,
     "metadata": {},
     "output_type": "execute_result"
    }
   ],
   "source": [
    "# f(x) = sin(x)^2 - cos(x)^2\n",
    "import sympy as sp\n",
    "x = sp.Symbol('x')\n",
    "f = sp.Pow(sp.sin(x), 2) - sp.Pow(sp.cos(x), 2)\n",
    "interval = sp.Interval(-2.5, 2.5)\n",
    "f"
   ]
  },
  {
   "cell_type": "code",
   "execution_count": 2,
   "metadata": {},
   "outputs": [
    {
     "data": {
      "text/latex": [
       "$\\displaystyle \\left\\{- \\frac{3 \\pi}{4}, - \\frac{\\pi}{4}, \\frac{\\pi}{4}, \\frac{3 \\pi}{4}\\right\\}$"
      ],
      "text/plain": [
       "{-3*pi/4, -pi/4, pi/4, 3*pi/4}"
      ]
     },
     "execution_count": 2,
     "metadata": {},
     "output_type": "execute_result"
    }
   ],
   "source": [
    "# Найти корни\n",
    "sp.solveset(f, x, interval)"
   ]
  },
  {
   "cell_type": "code",
   "execution_count": 3,
   "metadata": {},
   "outputs": [
    {
     "name": "stdout",
     "output_type": "stream",
     "text": [
      "      1 |   ..                      ..                      ... \n",
      "        |  /  \\                    /  \\                    /    \n",
      "        | /    .                  .    .                  .    .\n",
      "        |/                                                      \n",
      "        |       .                .      .                .      \n",
      "        |                                                       \n",
      "        |                       .        .                      \n",
      "        |        .                                      .       \n",
      "        |                                 .                     \n",
      "        |         .            .                       .        \n",
      "      0 |-------------------------------------------------------\n",
      "        |                     .            .                    \n",
      "        |          .                                  .         \n",
      "        |                                                       \n",
      "        |           .        .              .        .          \n",
      "        |                                                       \n",
      "        |            .      .                .      .           \n",
      "        |                                                       \n",
      "        |             .    .                  .    .            \n",
      "        |              \\  /                    \\  /             \n",
      "     -1 |_______________________________________________________\n",
      "         -2                         1.5                        5\n"
     ]
    },
    {
     "data": {
      "text/plain": [
       "<sympy.plotting.plot.Plot at 0x24d94d5f3a0>"
      ]
     },
     "execution_count": 3,
     "metadata": {},
     "output_type": "execute_result"
    }
   ],
   "source": [
    "# Построить график\n",
    "sp.plot(f, (x, -2,5, 2,5))"
   ]
  },
  {
   "cell_type": "code",
   "execution_count": 4,
   "metadata": {},
   "outputs": [
    {
     "data": {
      "text/plain": [
       "(-1, 1)"
      ]
     },
     "execution_count": 4,
     "metadata": {},
     "output_type": "execute_result"
    }
   ],
   "source": [
    "# Вычислить вершину\n",
    "min = sp.minimum(f, x, interval)\n",
    "max = sp.maximum(f, x, interval)\n",
    "min, max"
   ]
  },
  {
   "cell_type": "code",
   "execution_count": 5,
   "metadata": {},
   "outputs": [
    {
     "data": {
      "text/plain": [
       "((0 < x) & (x < pi/2), ((0 <= x) & (x < pi/4)) | ((x < pi) & (3*pi/4 < x)))"
      ]
     },
     "execution_count": 5,
     "metadata": {},
     "output_type": "execute_result"
    }
   ],
   "source": [
    "# Определить промежутки, на котором f > 0 и f < 0\n",
    "df = sp.diff(f)\n",
    "positive = sp.solve(df>0)\n",
    "negative = sp.solve(f<0)\n",
    "positive, negative"
   ]
  }
 ],
 "metadata": {
  "kernelspec": {
   "display_name": "Python 3",
   "language": "python",
   "name": "python3"
  },
  "language_info": {
   "codemirror_mode": {
    "name": "ipython",
    "version": 3
   },
   "file_extension": ".py",
   "mimetype": "text/x-python",
   "name": "python",
   "nbconvert_exporter": "python",
   "pygments_lexer": "ipython3",
   "version": "3.10.9"
  },
  "orig_nbformat": 4,
  "vscode": {
   "interpreter": {
    "hash": "d36479be1b67bd5e241077fc56e569df5aa1168219c82a115a6f8ccf90c1d1d6"
   }
  }
 },
 "nbformat": 4,
 "nbformat_minor": 2
}
